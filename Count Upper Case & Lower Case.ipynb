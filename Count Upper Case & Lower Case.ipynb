{
 "cells": [
  {
   "cell_type": "code",
   "execution_count": 1,
   "id": "471074c1",
   "metadata": {},
   "outputs": [
    {
     "name": "stdout",
     "output_type": "stream",
     "text": [
      "string :  The quick Brow Fox\n",
      "The total number of upper case character :  3\n",
      "The total number of lower case character :  12\n"
     ]
    }
   ],
   "source": [
    "def str(s):\n",
    "    d={\"uc\":0, \"lc\":0}\n",
    "    for i in s:\n",
    "        if i.isupper():\n",
    "            d[\"uc\"]+=1\n",
    "        elif i.islower():\n",
    "            d[\"lc\"]+=1\n",
    "        else:\n",
    "            pass\n",
    "    print(\"string : \",s)\n",
    "    print(\"The total number of upper case character : \",d[\"uc\"])\n",
    "    print(\"The total number of lower case character : \",d[\"lc\"])\n",
    "str('The quick Brow Fox')"
   ]
  },
  {
   "cell_type": "code",
   "execution_count": null,
   "id": "cceaa937",
   "metadata": {},
   "outputs": [],
   "source": []
  }
 ],
 "metadata": {
  "kernelspec": {
   "display_name": "Python 3 (ipykernel)",
   "language": "python",
   "name": "python3"
  },
  "language_info": {
   "codemirror_mode": {
    "name": "ipython",
    "version": 3
   },
   "file_extension": ".py",
   "mimetype": "text/x-python",
   "name": "python",
   "nbconvert_exporter": "python",
   "pygments_lexer": "ipython3",
   "version": "3.10.1"
  }
 },
 "nbformat": 4,
 "nbformat_minor": 5
}
