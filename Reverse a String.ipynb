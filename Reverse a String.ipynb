{
 "cells": [
  {
   "cell_type": "code",
   "execution_count": null,
   "id": "a7aab005",
   "metadata": {},
   "outputs": [],
   "source": [
    "def str(s):\n",
    "    rs = ''\n",
    "    a = len(s)\n",
    "    while a > 0:\n",
    "        rs += s[a-1]\n",
    "        a = a - 1\n",
    "    return rs\n"
   ]
  }
 ],
 "metadata": {
  "kernelspec": {
   "display_name": "Python 3 (ipykernel)",
   "language": "python",
   "name": "python3"
  },
  "language_info": {
   "codemirror_mode": {
    "name": "ipython",
    "version": 3
   },
   "file_extension": ".py",
   "mimetype": "text/x-python",
   "name": "python",
   "nbconvert_exporter": "python",
   "pygments_lexer": "ipython3",
   "version": "3.10.1"
  }
 },
 "nbformat": 4,
 "nbformat_minor": 5
}
