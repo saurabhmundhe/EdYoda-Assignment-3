{
 "cells": [
  {
   "cell_type": "code",
   "execution_count": 1,
   "id": "9bb704fb",
   "metadata": {},
   "outputs": [
    {
     "name": "stdout",
     "output_type": "stream",
     "text": [
      "dcba321\n"
     ]
    }
   ],
   "source": [
    "def str(s):\n",
    "    rs = ''\n",
    "    a = len(s)\n",
    "    while a > 0:\n",
    "        rs += s[a-1]\n",
    "        a = a - 1\n",
    "    return rs\n",
    "print(str('123abcd'))\n"
   ]
  },
  {
   "cell_type": "code",
   "execution_count": null,
   "id": "ed09a4fa",
   "metadata": {},
   "outputs": [],
   "source": []
  }
 ],
 "metadata": {
  "kernelspec": {
   "display_name": "Python 3 (ipykernel)",
   "language": "python",
   "name": "python3"
  },
  "language_info": {
   "codemirror_mode": {
    "name": "ipython",
    "version": 3
   },
   "file_extension": ".py",
   "mimetype": "text/x-python",
   "name": "python",
   "nbconvert_exporter": "python",
   "pygments_lexer": "ipython3",
   "version": "3.10.1"
  }
 },
 "nbformat": 4,
 "nbformat_minor": 5
}
